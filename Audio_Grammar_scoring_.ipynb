{
  "cells": [
    {
      "cell_type": "code",
      "source": [
        "# Step-1: Mount Google Drive\n",
        "# ---------------------------\n",
        "# Mount Google Drive to access the dataset and save results.\n",
        "from google.colab import drive\n",
        "drive.mount('/content/drive')\n"
      ],
      "metadata": {
        "id": "G_BFsVW1qoLF",
        "outputId": "2860701c-a949-4c39-b297-fb3690db755c",
        "colab": {
          "base_uri": "https://localhost:8080/"
        }
      },
      "execution_count": null,
      "outputs": [
        {
          "output_type": "stream",
          "name": "stdout",
          "text": [
            "Mounted at /content/drive\n"
          ]
        }
      ]
    },
    {
      "cell_type": "code",
      "source": [
        "# Step-2: Install Dependencies\n",
        "# -----------------------------\n",
        "# Install necessary packages from GitHub and PyPI.\n",
        "!pip install git+https://github.com/openai/whisper.git\n",
        "!pip install language-tool-python\n",
        "!pip install textstat\n",
        "!pip install xgboost\n"
      ],
      "metadata": {
        "id": "xbMQhdkCqoN-",
        "outputId": "07835e0a-b5ee-40d8-cca5-8e2c631ea9f4",
        "colab": {
          "base_uri": "https://localhost:8080/"
        }
      },
      "execution_count": null,
      "outputs": [
        {
          "output_type": "stream",
          "name": "stdout",
          "text": [
            "Collecting git+https://github.com/openai/whisper.git\n",
            "  Cloning https://github.com/openai/whisper.git to /tmp/pip-req-build-e9x29j1h\n",
            "  Running command git clone --filter=blob:none --quiet https://github.com/openai/whisper.git /tmp/pip-req-build-e9x29j1h\n",
            "  Resolved https://github.com/openai/whisper.git to commit 517a43ecd132a2089d85f4ebc044728a71d49f6e\n",
            "  Installing build dependencies ... \u001b[?25l\u001b[?25hdone\n",
            "  Getting requirements to build wheel ... \u001b[?25l\u001b[?25hdone\n",
            "  Preparing metadata (pyproject.toml) ... \u001b[?25l\u001b[?25hdone\n",
            "Requirement already satisfied: more-itertools in /usr/local/lib/python3.11/dist-packages (from openai-whisper==20240930) (10.6.0)\n",
            "Requirement already satisfied: numba in /usr/local/lib/python3.11/dist-packages (from openai-whisper==20240930) (0.60.0)\n",
            "Requirement already satisfied: numpy in /usr/local/lib/python3.11/dist-packages (from openai-whisper==20240930) (2.0.2)\n",
            "Collecting tiktoken (from openai-whisper==20240930)\n",
            "  Downloading tiktoken-0.9.0-cp311-cp311-manylinux_2_17_x86_64.manylinux2014_x86_64.whl.metadata (6.7 kB)\n",
            "Requirement already satisfied: torch in /usr/local/lib/python3.11/dist-packages (from openai-whisper==20240930) (2.6.0+cu124)\n",
            "Requirement already satisfied: tqdm in /usr/local/lib/python3.11/dist-packages (from openai-whisper==20240930) (4.67.1)\n",
            "Requirement already satisfied: triton>=2 in /usr/local/lib/python3.11/dist-packages (from openai-whisper==20240930) (3.2.0)\n",
            "Requirement already satisfied: llvmlite<0.44,>=0.43.0dev0 in /usr/local/lib/python3.11/dist-packages (from numba->openai-whisper==20240930) (0.43.0)\n",
            "Requirement already satisfied: regex>=2022.1.18 in /usr/local/lib/python3.11/dist-packages (from tiktoken->openai-whisper==20240930) (2024.11.6)\n",
            "Requirement already satisfied: requests>=2.26.0 in /usr/local/lib/python3.11/dist-packages (from tiktoken->openai-whisper==20240930) (2.32.3)\n",
            "Requirement already satisfied: filelock in /usr/local/lib/python3.11/dist-packages (from torch->openai-whisper==20240930) (3.18.0)\n",
            "Requirement already satisfied: typing-extensions>=4.10.0 in /usr/local/lib/python3.11/dist-packages (from torch->openai-whisper==20240930) (4.13.0)\n",
            "Requirement already satisfied: networkx in /usr/local/lib/python3.11/dist-packages (from torch->openai-whisper==20240930) (3.4.2)\n",
            "Requirement already satisfied: jinja2 in /usr/local/lib/python3.11/dist-packages (from torch->openai-whisper==20240930) (3.1.6)\n",
            "Requirement already satisfied: fsspec in /usr/local/lib/python3.11/dist-packages (from torch->openai-whisper==20240930) (2025.3.2)\n",
            "Collecting nvidia-cuda-nvrtc-cu12==12.4.127 (from torch->openai-whisper==20240930)\n",
            "  Downloading nvidia_cuda_nvrtc_cu12-12.4.127-py3-none-manylinux2014_x86_64.whl.metadata (1.5 kB)\n",
            "Collecting nvidia-cuda-runtime-cu12==12.4.127 (from torch->openai-whisper==20240930)\n",
            "  Downloading nvidia_cuda_runtime_cu12-12.4.127-py3-none-manylinux2014_x86_64.whl.metadata (1.5 kB)\n",
            "Collecting nvidia-cuda-cupti-cu12==12.4.127 (from torch->openai-whisper==20240930)\n",
            "  Downloading nvidia_cuda_cupti_cu12-12.4.127-py3-none-manylinux2014_x86_64.whl.metadata (1.6 kB)\n",
            "Collecting nvidia-cudnn-cu12==9.1.0.70 (from torch->openai-whisper==20240930)\n",
            "  Downloading nvidia_cudnn_cu12-9.1.0.70-py3-none-manylinux2014_x86_64.whl.metadata (1.6 kB)\n",
            "Collecting nvidia-cublas-cu12==12.4.5.8 (from torch->openai-whisper==20240930)\n",
            "  Downloading nvidia_cublas_cu12-12.4.5.8-py3-none-manylinux2014_x86_64.whl.metadata (1.5 kB)\n",
            "Collecting nvidia-cufft-cu12==11.2.1.3 (from torch->openai-whisper==20240930)\n",
            "  Downloading nvidia_cufft_cu12-11.2.1.3-py3-none-manylinux2014_x86_64.whl.metadata (1.5 kB)\n",
            "Collecting nvidia-curand-cu12==10.3.5.147 (from torch->openai-whisper==20240930)\n",
            "  Downloading nvidia_curand_cu12-10.3.5.147-py3-none-manylinux2014_x86_64.whl.metadata (1.5 kB)\n",
            "Collecting nvidia-cusolver-cu12==11.6.1.9 (from torch->openai-whisper==20240930)\n",
            "  Downloading nvidia_cusolver_cu12-11.6.1.9-py3-none-manylinux2014_x86_64.whl.metadata (1.6 kB)\n",
            "Collecting nvidia-cusparse-cu12==12.3.1.170 (from torch->openai-whisper==20240930)\n",
            "  Downloading nvidia_cusparse_cu12-12.3.1.170-py3-none-manylinux2014_x86_64.whl.metadata (1.6 kB)\n",
            "Requirement already satisfied: nvidia-cusparselt-cu12==0.6.2 in /usr/local/lib/python3.11/dist-packages (from torch->openai-whisper==20240930) (0.6.2)\n",
            "Requirement already satisfied: nvidia-nccl-cu12==2.21.5 in /usr/local/lib/python3.11/dist-packages (from torch->openai-whisper==20240930) (2.21.5)\n",
            "Requirement already satisfied: nvidia-nvtx-cu12==12.4.127 in /usr/local/lib/python3.11/dist-packages (from torch->openai-whisper==20240930) (12.4.127)\n",
            "Collecting nvidia-nvjitlink-cu12==12.4.127 (from torch->openai-whisper==20240930)\n",
            "  Downloading nvidia_nvjitlink_cu12-12.4.127-py3-none-manylinux2014_x86_64.whl.metadata (1.5 kB)\n",
            "Requirement already satisfied: sympy==1.13.1 in /usr/local/lib/python3.11/dist-packages (from torch->openai-whisper==20240930) (1.13.1)\n",
            "Requirement already satisfied: mpmath<1.4,>=1.1.0 in /usr/local/lib/python3.11/dist-packages (from sympy==1.13.1->torch->openai-whisper==20240930) (1.3.0)\n",
            "Requirement already satisfied: charset-normalizer<4,>=2 in /usr/local/lib/python3.11/dist-packages (from requests>=2.26.0->tiktoken->openai-whisper==20240930) (3.4.1)\n",
            "Requirement already satisfied: idna<4,>=2.5 in /usr/local/lib/python3.11/dist-packages (from requests>=2.26.0->tiktoken->openai-whisper==20240930) (3.10)\n",
            "Requirement already satisfied: urllib3<3,>=1.21.1 in /usr/local/lib/python3.11/dist-packages (from requests>=2.26.0->tiktoken->openai-whisper==20240930) (2.3.0)\n",
            "Requirement already satisfied: certifi>=2017.4.17 in /usr/local/lib/python3.11/dist-packages (from requests>=2.26.0->tiktoken->openai-whisper==20240930) (2025.1.31)\n",
            "Requirement already satisfied: MarkupSafe>=2.0 in /usr/local/lib/python3.11/dist-packages (from jinja2->torch->openai-whisper==20240930) (3.0.2)\n",
            "Downloading tiktoken-0.9.0-cp311-cp311-manylinux_2_17_x86_64.manylinux2014_x86_64.whl (1.2 MB)\n",
            "\u001b[2K   \u001b[90m━━━━━━━━━━━━━━━━━━━━━━━━━━━━━━━━━━━━━━━━\u001b[0m \u001b[32m1.2/1.2 MB\u001b[0m \u001b[31m32.3 MB/s\u001b[0m eta \u001b[36m0:00:00\u001b[0m\n",
            "\u001b[?25hDownloading nvidia_cublas_cu12-12.4.5.8-py3-none-manylinux2014_x86_64.whl (363.4 MB)\n",
            "\u001b[2K   \u001b[90m━━━━━━━━━━━━━━━━━━━━━━━━━━━━━━━━━━━━━━━━\u001b[0m \u001b[32m363.4/363.4 MB\u001b[0m \u001b[31m4.0 MB/s\u001b[0m eta \u001b[36m0:00:00\u001b[0m\n",
            "\u001b[?25hDownloading nvidia_cuda_cupti_cu12-12.4.127-py3-none-manylinux2014_x86_64.whl (13.8 MB)\n",
            "\u001b[2K   \u001b[90m━━━━━━━━━━━━━━━━━━━━━━━━━━━━━━━━━━━━━━━━\u001b[0m \u001b[32m13.8/13.8 MB\u001b[0m \u001b[31m111.9 MB/s\u001b[0m eta \u001b[36m0:00:00\u001b[0m\n",
            "\u001b[?25hDownloading nvidia_cuda_nvrtc_cu12-12.4.127-py3-none-manylinux2014_x86_64.whl (24.6 MB)\n",
            "\u001b[2K   \u001b[90m━━━━━━━━━━━━━━━━━━━━━━━━━━━━━━━━━━━━━━━━\u001b[0m \u001b[32m24.6/24.6 MB\u001b[0m \u001b[31m87.0 MB/s\u001b[0m eta \u001b[36m0:00:00\u001b[0m\n",
            "\u001b[?25hDownloading nvidia_cuda_runtime_cu12-12.4.127-py3-none-manylinux2014_x86_64.whl (883 kB)\n",
            "\u001b[2K   \u001b[90m━━━━━━━━━━━━━━━━━━━━━━━━━━━━━━━━━━━━━━━━\u001b[0m \u001b[32m883.7/883.7 kB\u001b[0m \u001b[31m59.4 MB/s\u001b[0m eta \u001b[36m0:00:00\u001b[0m\n",
            "\u001b[?25hDownloading nvidia_cudnn_cu12-9.1.0.70-py3-none-manylinux2014_x86_64.whl (664.8 MB)\n",
            "\u001b[2K   \u001b[90m━━━━━━━━━━━━━━━━━━━━━━━━━━━━━━━━━━━━━━━━\u001b[0m \u001b[32m664.8/664.8 MB\u001b[0m \u001b[31m1.4 MB/s\u001b[0m eta \u001b[36m0:00:00\u001b[0m\n",
            "\u001b[?25hDownloading nvidia_cufft_cu12-11.2.1.3-py3-none-manylinux2014_x86_64.whl (211.5 MB)\n",
            "\u001b[2K   \u001b[90m━━━━━━━━━━━━━━━━━━━━━━━━━━━━━━━━━━━━━━━━\u001b[0m \u001b[32m211.5/211.5 MB\u001b[0m \u001b[31m5.3 MB/s\u001b[0m eta \u001b[36m0:00:00\u001b[0m\n",
            "\u001b[?25hDownloading nvidia_curand_cu12-10.3.5.147-py3-none-manylinux2014_x86_64.whl (56.3 MB)\n",
            "\u001b[2K   \u001b[90m━━━━━━━━━━━━━━━━━━━━━━━━━━━━━━━━━━━━━━━━\u001b[0m \u001b[32m56.3/56.3 MB\u001b[0m \u001b[31m13.2 MB/s\u001b[0m eta \u001b[36m0:00:00\u001b[0m\n",
            "\u001b[?25hDownloading nvidia_cusolver_cu12-11.6.1.9-py3-none-manylinux2014_x86_64.whl (127.9 MB)\n",
            "\u001b[2K   \u001b[90m━━━━━━━━━━━━━━━━━━━━━━━━━━━━━━━━━━━━━━━━\u001b[0m \u001b[32m127.9/127.9 MB\u001b[0m \u001b[31m7.8 MB/s\u001b[0m eta \u001b[36m0:00:00\u001b[0m\n",
            "\u001b[?25hDownloading nvidia_cusparse_cu12-12.3.1.170-py3-none-manylinux2014_x86_64.whl (207.5 MB)\n",
            "\u001b[2K   \u001b[90m━━━━━━━━━━━━━━━━━━━━━━━━━━━━━━━━━━━━━━━━\u001b[0m \u001b[32m207.5/207.5 MB\u001b[0m \u001b[31m5.6 MB/s\u001b[0m eta \u001b[36m0:00:00\u001b[0m\n",
            "\u001b[?25hDownloading nvidia_nvjitlink_cu12-12.4.127-py3-none-manylinux2014_x86_64.whl (21.1 MB)\n",
            "\u001b[2K   \u001b[90m━━━━━━━━━━━━━━━━━━━━━━━━━━━━━━━━━━━━━━━━\u001b[0m \u001b[32m21.1/21.1 MB\u001b[0m \u001b[31m93.5 MB/s\u001b[0m eta \u001b[36m0:00:00\u001b[0m\n",
            "\u001b[?25hBuilding wheels for collected packages: openai-whisper\n",
            "  Building wheel for openai-whisper (pyproject.toml) ... \u001b[?25l\u001b[?25hdone\n",
            "  Created wheel for openai-whisper: filename=openai_whisper-20240930-py3-none-any.whl size=803707 sha256=aa588cb872514a52b8bbe3463e14e051084cc2a6c5afc18b07826854fe6aa172\n",
            "  Stored in directory: /tmp/pip-ephem-wheel-cache-ujabzgx6/wheels/1f/1d/98/9583695e6695a6ac0ad42d87511097dce5ba486647dbfecb0e\n",
            "Successfully built openai-whisper\n",
            "Installing collected packages: nvidia-nvjitlink-cu12, nvidia-curand-cu12, nvidia-cufft-cu12, nvidia-cuda-runtime-cu12, nvidia-cuda-nvrtc-cu12, nvidia-cuda-cupti-cu12, nvidia-cublas-cu12, tiktoken, nvidia-cusparse-cu12, nvidia-cudnn-cu12, nvidia-cusolver-cu12, openai-whisper\n",
            "  Attempting uninstall: nvidia-nvjitlink-cu12\n",
            "    Found existing installation: nvidia-nvjitlink-cu12 12.5.82\n",
            "    Uninstalling nvidia-nvjitlink-cu12-12.5.82:\n",
            "      Successfully uninstalled nvidia-nvjitlink-cu12-12.5.82\n",
            "  Attempting uninstall: nvidia-curand-cu12\n",
            "    Found existing installation: nvidia-curand-cu12 10.3.6.82\n",
            "    Uninstalling nvidia-curand-cu12-10.3.6.82:\n",
            "      Successfully uninstalled nvidia-curand-cu12-10.3.6.82\n",
            "  Attempting uninstall: nvidia-cufft-cu12\n",
            "    Found existing installation: nvidia-cufft-cu12 11.2.3.61\n",
            "    Uninstalling nvidia-cufft-cu12-11.2.3.61:\n",
            "      Successfully uninstalled nvidia-cufft-cu12-11.2.3.61\n",
            "  Attempting uninstall: nvidia-cuda-runtime-cu12\n",
            "    Found existing installation: nvidia-cuda-runtime-cu12 12.5.82\n",
            "    Uninstalling nvidia-cuda-runtime-cu12-12.5.82:\n",
            "      Successfully uninstalled nvidia-cuda-runtime-cu12-12.5.82\n",
            "  Attempting uninstall: nvidia-cuda-nvrtc-cu12\n",
            "    Found existing installation: nvidia-cuda-nvrtc-cu12 12.5.82\n",
            "    Uninstalling nvidia-cuda-nvrtc-cu12-12.5.82:\n",
            "      Successfully uninstalled nvidia-cuda-nvrtc-cu12-12.5.82\n",
            "  Attempting uninstall: nvidia-cuda-cupti-cu12\n",
            "    Found existing installation: nvidia-cuda-cupti-cu12 12.5.82\n",
            "    Uninstalling nvidia-cuda-cupti-cu12-12.5.82:\n",
            "      Successfully uninstalled nvidia-cuda-cupti-cu12-12.5.82\n",
            "  Attempting uninstall: nvidia-cublas-cu12\n",
            "    Found existing installation: nvidia-cublas-cu12 12.5.3.2\n",
            "    Uninstalling nvidia-cublas-cu12-12.5.3.2:\n",
            "      Successfully uninstalled nvidia-cublas-cu12-12.5.3.2\n",
            "  Attempting uninstall: nvidia-cusparse-cu12\n",
            "    Found existing installation: nvidia-cusparse-cu12 12.5.1.3\n",
            "    Uninstalling nvidia-cusparse-cu12-12.5.1.3:\n",
            "      Successfully uninstalled nvidia-cusparse-cu12-12.5.1.3\n",
            "  Attempting uninstall: nvidia-cudnn-cu12\n",
            "    Found existing installation: nvidia-cudnn-cu12 9.3.0.75\n",
            "    Uninstalling nvidia-cudnn-cu12-9.3.0.75:\n",
            "      Successfully uninstalled nvidia-cudnn-cu12-9.3.0.75\n",
            "  Attempting uninstall: nvidia-cusolver-cu12\n",
            "    Found existing installation: nvidia-cusolver-cu12 11.6.3.83\n",
            "    Uninstalling nvidia-cusolver-cu12-11.6.3.83:\n",
            "      Successfully uninstalled nvidia-cusolver-cu12-11.6.3.83\n",
            "Successfully installed nvidia-cublas-cu12-12.4.5.8 nvidia-cuda-cupti-cu12-12.4.127 nvidia-cuda-nvrtc-cu12-12.4.127 nvidia-cuda-runtime-cu12-12.4.127 nvidia-cudnn-cu12-9.1.0.70 nvidia-cufft-cu12-11.2.1.3 nvidia-curand-cu12-10.3.5.147 nvidia-cusolver-cu12-11.6.1.9 nvidia-cusparse-cu12-12.3.1.170 nvidia-nvjitlink-cu12-12.4.127 openai-whisper-20240930 tiktoken-0.9.0\n",
            "Collecting language-tool-python\n",
            "  Downloading language_tool_python-2.9.2-py3-none-any.whl.metadata (54 kB)\n",
            "\u001b[2K     \u001b[90m━━━━━━━━━━━━━━━━━━━━━━━━━━━━━━━━━━━━━━━━\u001b[0m \u001b[32m54.7/54.7 kB\u001b[0m \u001b[31m3.4 MB/s\u001b[0m eta \u001b[36m0:00:00\u001b[0m\n",
            "\u001b[?25hRequirement already satisfied: requests in /usr/local/lib/python3.11/dist-packages (from language-tool-python) (2.32.3)\n",
            "Requirement already satisfied: tqdm in /usr/local/lib/python3.11/dist-packages (from language-tool-python) (4.67.1)\n",
            "Requirement already satisfied: psutil in /usr/local/lib/python3.11/dist-packages (from language-tool-python) (5.9.5)\n",
            "Requirement already satisfied: toml in /usr/local/lib/python3.11/dist-packages (from language-tool-python) (0.10.2)\n",
            "Requirement already satisfied: charset-normalizer<4,>=2 in /usr/local/lib/python3.11/dist-packages (from requests->language-tool-python) (3.4.1)\n",
            "Requirement already satisfied: idna<4,>=2.5 in /usr/local/lib/python3.11/dist-packages (from requests->language-tool-python) (3.10)\n",
            "Requirement already satisfied: urllib3<3,>=1.21.1 in /usr/local/lib/python3.11/dist-packages (from requests->language-tool-python) (2.3.0)\n",
            "Requirement already satisfied: certifi>=2017.4.17 in /usr/local/lib/python3.11/dist-packages (from requests->language-tool-python) (2025.1.31)\n",
            "Downloading language_tool_python-2.9.2-py3-none-any.whl (54 kB)\n",
            "\u001b[2K   \u001b[90m━━━━━━━━━━━━━━━━━━━━━━━━━━━━━━━━━━━━━━━━\u001b[0m \u001b[32m54.3/54.3 kB\u001b[0m \u001b[31m5.6 MB/s\u001b[0m eta \u001b[36m0:00:00\u001b[0m\n",
            "\u001b[?25hInstalling collected packages: language-tool-python\n",
            "Successfully installed language-tool-python-2.9.2\n",
            "Collecting textstat\n",
            "  Downloading textstat-0.7.5-py3-none-any.whl.metadata (15 kB)\n",
            "Collecting pyphen (from textstat)\n",
            "  Downloading pyphen-0.17.2-py3-none-any.whl.metadata (3.2 kB)\n",
            "Collecting cmudict (from textstat)\n",
            "  Downloading cmudict-1.0.32-py3-none-any.whl.metadata (3.6 kB)\n",
            "Requirement already satisfied: setuptools in /usr/local/lib/python3.11/dist-packages (from textstat) (75.2.0)\n",
            "Requirement already satisfied: importlib-metadata>=5 in /usr/local/lib/python3.11/dist-packages (from cmudict->textstat) (8.6.1)\n",
            "Requirement already satisfied: importlib-resources>=5 in /usr/local/lib/python3.11/dist-packages (from cmudict->textstat) (6.5.2)\n",
            "Requirement already satisfied: zipp>=3.20 in /usr/local/lib/python3.11/dist-packages (from importlib-metadata>=5->cmudict->textstat) (3.21.0)\n",
            "Downloading textstat-0.7.5-py3-none-any.whl (105 kB)\n",
            "\u001b[2K   \u001b[90m━━━━━━━━━━━━━━━━━━━━━━━━━━━━━━━━━━━━━━━━\u001b[0m \u001b[32m105.3/105.3 kB\u001b[0m \u001b[31m6.2 MB/s\u001b[0m eta \u001b[36m0:00:00\u001b[0m\n",
            "\u001b[?25hDownloading cmudict-1.0.32-py3-none-any.whl (939 kB)\n",
            "\u001b[2K   \u001b[90m━━━━━━━━━━━━━━━━━━━━━━━━━━━━━━━━━━━━━━━━\u001b[0m \u001b[32m939.4/939.4 kB\u001b[0m \u001b[31m33.7 MB/s\u001b[0m eta \u001b[36m0:00:00\u001b[0m\n",
            "\u001b[?25hDownloading pyphen-0.17.2-py3-none-any.whl (2.1 MB)\n",
            "\u001b[2K   \u001b[90m━━━━━━━━━━━━━━━━━━━━━━━━━━━━━━━━━━━━━━━━\u001b[0m \u001b[32m2.1/2.1 MB\u001b[0m \u001b[31m77.8 MB/s\u001b[0m eta \u001b[36m0:00:00\u001b[0m\n",
            "\u001b[?25hInstalling collected packages: pyphen, cmudict, textstat\n",
            "Successfully installed cmudict-1.0.32 pyphen-0.17.2 textstat-0.7.5\n",
            "Requirement already satisfied: xgboost in /usr/local/lib/python3.11/dist-packages (2.1.4)\n",
            "Requirement already satisfied: numpy in /usr/local/lib/python3.11/dist-packages (from xgboost) (2.0.2)\n",
            "Requirement already satisfied: nvidia-nccl-cu12 in /usr/local/lib/python3.11/dist-packages (from xgboost) (2.21.5)\n",
            "Requirement already satisfied: scipy in /usr/local/lib/python3.11/dist-packages (from xgboost) (1.14.1)\n"
          ]
        }
      ]
    },
    {
      "cell_type": "code",
      "source": [
        "# Step-3: Load Data and Define Paths\n",
        "# ----------------------------------\n",
        "# Load the training and test CSV files and set the audio directories.\n",
        "import pandas as pd\n",
        "import os\n",
        "\n",
        "# Load data from Google Drive\n",
        "train_df = pd.read_csv('/content/drive/MyDrive/dataset/train.csv')\n",
        "test_df = pd.read_csv('/content/drive/MyDrive/dataset/test.csv')\n",
        "\n",
        "# Define directories for audio files\n",
        "train_audio_dir = '/content/drive/MyDrive/dataset/audios_train'\n",
        "test_audio_dir = '/content/drive/MyDrive/dataset/audios_test'\n"
      ],
      "metadata": {
        "id": "56sb1ioKqoQz"
      },
      "execution_count": null,
      "outputs": []
    },
    {
      "cell_type": "code",
      "source": [
        "# Step-4: Audio Transcription with Whisper\n",
        "# -----------------------------------------\n",
        "# Transcribe audio files using a GPU-optimized version of OpenAI's Whisper model.\n",
        "import pickle\n",
        "import os\n",
        "import whisper\n",
        "import torch\n",
        "from tqdm import tqdm\n",
        "\n",
        "# ==== CONFIGURATION ====\n",
        "SAVE_PATH = '/content/drive/MyDrive/transcriptions.pkl'\n",
        "CHECKPOINT_INTERVAL = 20  # Interval for saving progress\n",
        "WHISPER_MODEL = \"small\"     # Choose \"small\" for better accuracy (or \"base\" for faster results)\n",
        "BATCH_SIZE = 4              # Adjust based on available GPU memory (e.g., T4 GPU with 16GB)\n",
        "# =======================\n",
        "\n",
        "# Mount Google Drive (if not already mounted)\n",
        "from google.colab import drive\n",
        "drive.mount('/content/drive')\n",
        "\n",
        "# Check GPU availability\n",
        "assert torch.cuda.is_available(), \"Enable T4 GPU: Runtime → Change runtime type → T4 GPU\"\n",
        "\n",
        "# Load the Whisper model on GPU\n",
        "model = whisper.load_model(WHISPER_MODEL).cuda()\n",
        "\n",
        "def transcribe_audio(file_path):\n",
        "    \"\"\"Transcribe a single audio file using GPU-optimized settings.\"\"\"\n",
        "    return model.transcribe(\n",
        "        file_path,\n",
        "        fp16=True,       # Enable FP16 for GPU\n",
        "        language=\"en\",\n",
        "        beam_size=5,     # Use beam search for better accuracy\n",
        "        temperature=0.0, # Disable random sampling\n",
        "        verbose=None     # Disable verbose output\n",
        "    )[\"text\"]\n",
        "\n",
        "def load_safe():\n",
        "    \"\"\"Load checkpoint safely, handling possible file corruption.\"\"\"\n",
        "    try:\n",
        "        if os.path.exists(SAVE_PATH):\n",
        "            if os.path.getsize(SAVE_PATH) > 0:\n",
        "                with open(SAVE_PATH, 'rb') as f:\n",
        "                    data = pickle.load(f)\n",
        "                    if (len(data) == 2 and isinstance(data[0], list) and isinstance(data[1], list)):\n",
        "                        return data\n",
        "                    print(\"Invalid checkpoint structure - starting fresh\")\n",
        "            else:\n",
        "                print(\"Empty checkpoint file - starting fresh\")\n",
        "        return [], []\n",
        "    except (EOFError, pickle.UnpicklingError) as e:\n",
        "        print(f\"Corrupted checkpoint ({e}) - starting fresh\")\n",
        "        return [], []\n",
        "\n",
        "def save_checkpoint(train, test):\n",
        "    \"\"\"Save checkpoint atomically to prevent corruption.\"\"\"\n",
        "    temp_path = SAVE_PATH + '.tmp'\n",
        "    with open(temp_path, 'wb') as f:\n",
        "        pickle.dump((train, test), f)\n",
        "    os.replace(temp_path, SAVE_PATH)\n",
        "\n",
        "# Load or initialize transcription progress\n",
        "print(\"\\nLoading checkpoint...\")\n",
        "train_texts, test_texts = load_safe()\n",
        "\n",
        "print(f\"Initial status:\")\n",
        "print(f\" - Training files processed: {len(train_texts)}/{len(train_df)}\")\n",
        "print(f\" - Test files processed: {len(test_texts)}/{len(test_df)}\")\n",
        "\n",
        "# Process audio files with GPU batching\n",
        "try:\n",
        "    # Process training files\n",
        "    start_idx = len(train_texts)\n",
        "    if start_idx < len(train_df):\n",
        "        print(f\"\\nProcessing {len(train_df) - start_idx} training files:\")\n",
        "        for i in tqdm(range(start_idx, len(train_df)), desc=\"Training Files\"):\n",
        "            filename = train_df['filename'].iloc[i]\n",
        "            file_path = os.path.join(train_audio_dir, filename)\n",
        "\n",
        "            if os.path.exists(file_path):\n",
        "                try:\n",
        "                    # Clear GPU cache periodically\n",
        "                    if (i - start_idx) % BATCH_SIZE == 0 and i > start_idx:\n",
        "                        torch.cuda.empty_cache()\n",
        "                    train_texts.append(transcribe_audio(file_path))\n",
        "                except Exception as e:\n",
        "                    print(f\"Error transcribing {filename}: {str(e)}\")\n",
        "                    train_texts.append(\"\")\n",
        "            else:\n",
        "                train_texts.append(\"\")\n",
        "\n",
        "            if i % CHECKPOINT_INTERVAL == 0:\n",
        "                save_checkpoint(train_texts, test_texts)\n",
        "\n",
        "    # Process test files\n",
        "    start_test = len(test_texts)\n",
        "    if start_test < len(test_df):\n",
        "        print(f\"\\nProcessing {len(test_df) - start_test} test files:\")\n",
        "        for i in tqdm(range(start_test, len(test_df)), desc=\"Test Files\"):\n",
        "            filename = test_df['filename'].iloc[i]\n",
        "            file_path = os.path.join(test_audio_dir, filename)\n",
        "\n",
        "            if os.path.exists(file_path):\n",
        "                try:\n",
        "                    test_texts.append(transcribe_audio(file_path))\n",
        "                except Exception as e:\n",
        "                    print(f\"Error transcribing {filename}: {str(e)}\")\n",
        "                    test_texts.append(\"\")\n",
        "            else:\n",
        "                test_texts.append(\"\")\n",
        "\n",
        "            if i % CHECKPOINT_INTERVAL == 0:\n",
        "                save_checkpoint(train_texts, test_texts)\n",
        "\n",
        "except KeyboardInterrupt:\n",
        "    print(\"\\nInterrupted - saving progress...\")\n",
        "    save_checkpoint(train_texts, test_texts)\n",
        "    raise\n",
        "\n",
        "finally:\n",
        "    save_checkpoint(train_texts, test_texts)\n",
        "    print(\"\\nFinal checkpoint saved!\")\n",
        "    print(f\"Training files processed: {len(train_texts)}/{len(train_df)}\")\n",
        "    print(f\"Test files processed: {len(test_texts)}/{len(test_df)}\")\n"
      ],
      "metadata": {
        "id": "ufeItuslqoTr",
        "outputId": "abbd0cea-4e3f-489b-dfc5-7b95491515ff",
        "colab": {
          "base_uri": "https://localhost:8080/"
        }
      },
      "execution_count": null,
      "outputs": [
        {
          "output_type": "stream",
          "name": "stdout",
          "text": [
            "Drive already mounted at /content/drive; to attempt to forcibly remount, call drive.mount(\"/content/drive\", force_remount=True).\n"
          ]
        },
        {
          "output_type": "stream",
          "name": "stderr",
          "text": [
            "100%|███████████████████████████████████████| 461M/461M [00:09<00:00, 51.1MiB/s]\n"
          ]
        },
        {
          "output_type": "stream",
          "name": "stdout",
          "text": [
            "\n",
            " Loading checkpoint...\n",
            " Initial status:\n",
            " - Training files: 0/444\n",
            " - Test files: 0/195\n",
            "\n",
            " Processing 444 training files:\n"
          ]
        },
        {
          "output_type": "stream",
          "name": "stderr",
          "text": [
            "Training Files: 100%|██████████| 444/444 [49:04<00:00,  6.63s/it]\n"
          ]
        },
        {
          "output_type": "stream",
          "name": "stdout",
          "text": [
            "\n",
            "🔊 Processing 195 test files:\n"
          ]
        },
        {
          "output_type": "stream",
          "name": "stderr",
          "text": [
            "Test Files: 100%|██████████| 195/195 [20:32<00:00,  6.32s/it]"
          ]
        },
        {
          "output_type": "stream",
          "name": "stdout",
          "text": [
            "\n",
            " Final checkpoint saved!\n",
            "Training: 444/444\n",
            "Test: 195/195\n"
          ]
        },
        {
          "output_type": "stream",
          "name": "stderr",
          "text": [
            "\n"
          ]
        }
      ]
    },
    {
      "cell_type": "code",
      "source": [
        "# Step-5: Feature Extraction from Transcriptions\n",
        "# -----------------------------------------------\n",
        "# Extract grammar and readability features from the transcribed text.\n",
        "import language_tool_python\n",
        "import textstat\n",
        "from tqdm import tqdm\n",
        "\n",
        "# Initialize the grammar checker for English (US)\n",
        "tool = language_tool_python.LanguageTool('en-US')\n",
        "\n",
        "# Set a timeout for the HTTP session if possible\n",
        "if hasattr(tool, '_session'):\n",
        "    tool._session.timeout = 15  # Timeout in seconds\n",
        "else:\n",
        "    print(\"Warning: Could not set timeout - session object not found\")\n",
        "\n",
        "def extract_text_features(text):\n",
        "    \"\"\"Extract grammar, readability, and text complexity features from the text.\"\"\"\n",
        "    features = {}\n",
        "    text = str(text).strip()\n",
        "\n",
        "    if not text:\n",
        "        return {\n",
        "            'grammar_errors': 0,\n",
        "            'flesch_reading': 0,\n",
        "            'smog_index': 0,\n",
        "            'word_count': 0,\n",
        "            'sentence_count': 0,\n",
        "            'avg_sentence_length': 0,\n",
        "            'complex_word_count': 0,\n",
        "            'error_rate': 0\n",
        "        }\n",
        "\n",
        "    try:\n",
        "        # Count grammar errors using LanguageTool\n",
        "        matches = tool.check(text)\n",
        "        features['grammar_errors'] = len(matches)\n",
        "\n",
        "        # Readability features\n",
        "        features['flesch_reading'] = textstat.flesch_reading_ease(text)\n",
        "        try:\n",
        "            features['smog_index'] = textstat.smog_index(text)\n",
        "        except:\n",
        "            features['smog_index'] = 0\n",
        "\n",
        "        # Text complexity measures\n",
        "        features['word_count'] = textstat.lexicon_count(text, removepunct=True)\n",
        "        features['sentence_count'] = textstat.sentence_count(text)\n",
        "        features['avg_sentence_length'] = (features['word_count'] / features['sentence_count']\n",
        "                                           if features['sentence_count'] > 0 else 0)\n",
        "        features['complex_word_count'] = textstat.difficult_words(text)\n",
        "\n",
        "        # Calculate error rate\n",
        "        features['error_rate'] = (features['grammar_errors'] / features['word_count']\n",
        "                                  if features['word_count'] > 0 else 0)\n",
        "    except Exception as e:\n",
        "        print(f\"Error processing text: {str(e)}\")\n",
        "        # Return zeros if an error occurs\n",
        "        return {key: 0 for key in ['grammar_errors', 'flesch_reading', 'smog_index',\n",
        "                                   'word_count', 'sentence_count', 'avg_sentence_length',\n",
        "                                   'complex_word_count', 'error_rate']}\n",
        "    return features\n",
        "\n",
        "# Process and extract features from transcriptions\n",
        "print(\"Extracting training features...\")\n",
        "train_features = [extract_text_features(text) for text in tqdm(train_texts)]\n",
        "print(\"\\nExtracting test features...\")\n",
        "test_features = [extract_text_features(text) for text in tqdm(test_texts)]\n"
      ],
      "metadata": {
        "id": "YsiasUmUqoZJ",
        "outputId": "d0554c8e-5e8d-4de1-d0b7-7f82755da91e",
        "colab": {
          "base_uri": "https://localhost:8080/"
        }
      },
      "execution_count": null,
      "outputs": [
        {
          "output_type": "stream",
          "name": "stderr",
          "text": [
            "Downloading LanguageTool 6.5: 100%|██████████| 248M/248M [00:03<00:00, 81.9MB/s]\n",
            "INFO:language_tool_python.download_lt:Unzipping /tmp/tmp91vz6f38.zip to /root/.cache/language_tool_python.\n",
            "INFO:language_tool_python.download_lt:Downloaded https://www.languagetool.org/download/LanguageTool-6.5.zip to /root/.cache/language_tool_python.\n"
          ]
        },
        {
          "output_type": "stream",
          "name": "stdout",
          "text": [
            "Warning: Could not set timeout - session object not found\n",
            "Extracting training features...\n"
          ]
        },
        {
          "output_type": "stream",
          "name": "stderr",
          "text": [
            "100%|██████████| 444/444 [01:23<00:00,  5.31it/s]\n"
          ]
        },
        {
          "output_type": "stream",
          "name": "stdout",
          "text": [
            "\n",
            "Extracting test features...\n"
          ]
        },
        {
          "output_type": "stream",
          "name": "stderr",
          "text": [
            "100%|██████████| 195/195 [00:17<00:00, 11.01it/s]\n"
          ]
        }
      ]
    },
    {
      "cell_type": "code",
      "source": [
        "# Step-6: Data Preparation & Splitting\n",
        "# -------------------------------------\n",
        "# Convert feature dictionaries into DataFrames, clean data, and split into training and validation sets.\n",
        "import numpy as np\n",
        "import pandas as pd\n",
        "from sklearn.model_selection import train_test_split\n",
        "\n",
        "# Convert feature dictionaries to DataFrames (ensure numeric types)\n",
        "train_feature_df = pd.DataFrame.from_records(train_features).astype(float)\n",
        "test_feature_df = pd.DataFrame.from_records(test_features).astype(float)\n",
        "\n",
        "# Function to handle infinite/NaN values\n",
        "def safe_clean(df):\n",
        "    \"\"\"Replace infinite values with NaN and fill NaN with median values.\"\"\"\n",
        "    return df.replace([np.inf, -np.inf], np.nan).fillna(df.median())\n",
        "\n",
        "train_feature_df = safe_clean(train_feature_df)\n",
        "test_feature_df = safe_clean(test_feature_df)\n",
        "\n",
        "# Verify that feature counts match the labels\n",
        "assert len(train_feature_df) == len(train_df), \"Feature-label mismatch in training data!\"\n",
        "assert len(test_feature_df) == len(test_df), \"Feature-label mismatch in test data!\"\n",
        "\n",
        "# Prepare features (X) and labels (y)\n",
        "X = train_feature_df\n",
        "y = train_df['label'].values  # Convert to numpy array for compatibility\n",
        "\n",
        "# Stratified split (if possible) to maintain label distribution\n",
        "try:\n",
        "    # Calculate bins for stratification dynamically\n",
        "    n_bins = min(5, len(np.unique(y)) // 3)\n",
        "    bins = pd.qcut(y, q=n_bins, duplicates='drop')\n",
        "\n",
        "    X_train, X_val, y_train, y_val = train_test_split(\n",
        "        X, y,\n",
        "        test_size=0.2,\n",
        "        random_state=42,\n",
        "        stratify=bins\n",
        "    )\n",
        "except ValueError as e:\n",
        "    print(f\"Stratification failed: {e} - Using random split\")\n",
        "    X_train, X_val, y_train, y_val = train_test_split(\n",
        "        X, y,\n",
        "        test_size=0.2,\n",
        "        random_state=42\n",
        "    )\n",
        "\n",
        "# Final data integrity and sanity check\n",
        "print(\"\\nData Preparation Report:\")\n",
        "print(f\"Training samples: {len(X_train)}\")\n",
        "print(f\"Validation samples: {len(X_val)}\")\n",
        "print(f\"Test samples: {len(test_feature_df)}\")\n",
        "print(\"\\nFeature Summary:\")\n",
        "print(X_train.describe())\n"
      ],
      "metadata": {
        "id": "tj2j_pEQqobx",
        "outputId": "09bbcbdd-ccac-45d8-bf37-d0800461b309",
        "colab": {
          "base_uri": "https://localhost:8080/"
        }
      },
      "execution_count": null,
      "outputs": [
        {
          "output_type": "stream",
          "name": "stdout",
          "text": [
            "\n",
            "Data Preparation Report:\n",
            "Training samples: 355\n",
            "Validation samples: 89\n",
            "Test samples: 195\n",
            "\n",
            "Feature Summary:\n",
            "       grammar_errors  flesch_reading  smog_index   word_count  \\\n",
            "count      355.000000      355.000000  355.000000   355.000000   \n",
            "mean         5.076056       10.677944    6.740000   146.633803   \n",
            "std         27.189903      197.441409    5.080235   183.284136   \n",
            "min          0.000000    -1474.370000    0.000000     2.000000   \n",
            "25%          0.000000       44.730000    0.000000    82.000000   \n",
            "50%          2.000000       64.100000    8.800000   109.000000   \n",
            "75%          3.000000       75.450000   10.500000   136.000000   \n",
            "max        404.000000      120.210000   17.100000  1548.000000   \n",
            "\n",
            "       sentence_count  avg_sentence_length  complex_word_count  error_rate  \n",
            "count      355.000000           355.000000          355.000000  355.000000  \n",
            "mean         5.090141            79.614284           11.059155    0.029605  \n",
            "std          4.399896           198.250522            7.980867    0.063510  \n",
            "min          1.000000             2.000000            0.000000    0.000000  \n",
            "25%          2.000000            14.393939            6.000000    0.000000  \n",
            "50%          5.000000            20.714286           11.000000    0.015504  \n",
            "75%          7.000000            45.250000           14.000000    0.035191  \n",
            "max         52.000000          1548.000000           55.000000    0.982968  \n"
          ]
        }
      ]
    },
    {
      "cell_type": "code",
      "source": [
        "# Step-7: Model Training and Evaluation\n",
        "# ---------------------------------------\n",
        "# Train an XGBoost model to predict grammar scores using the extracted features.\n",
        "import numpy as np\n",
        "import pandas as pd\n",
        "import matplotlib.pyplot as plt\n",
        "import seaborn as sns\n",
        "from xgboost import XGBRegressor, callback\n",
        "from sklearn.metrics import mean_squared_error, mean_absolute_error, r2_score\n",
        "import torch  # For GPU detection\n",
        "\n",
        "# Custom learning rate decay with a default for the second parameter\n",
        "def learning_rate_decay(epoch, num_boost_round=None):\n",
        "    initial_lr = 0.02\n",
        "    min_lr = 0.001\n",
        "    decay_factor = 0.99\n",
        "    return max(min_lr, initial_lr * (decay_factor ** epoch))\n",
        "\n",
        "# Configure the XGBoost model with GPU settings and evaluation metrics\n",
        "model = XGBRegressor(\n",
        "    objective='reg:squarederror',\n",
        "    n_estimators=2000,\n",
        "    learning_rate=0.02,\n",
        "    max_depth=5,\n",
        "    subsample=0.75,\n",
        "    colsample_bytree=0.75,\n",
        "    gamma=0.2,\n",
        "    reg_alpha=0.2,\n",
        "    reg_lambda=0.2,\n",
        "    random_state=42,\n",
        "    eval_metric=['rmse', 'mae'],  # Set evaluation metrics in the constructor\n",
        "    tree_method='gpu_hist' if torch.cuda.is_available() else 'hist',\n",
        "    predictor='gpu_predictor' if torch.cuda.is_available() else 'cpu_predictor',\n",
        "    callbacks=[\n",
        "        callback.LearningRateScheduler(learning_rate_decay),\n",
        "        callback.EarlyStopping(rounds=150)  # Early stopping callback\n",
        "    ]\n",
        ")\n",
        "\n",
        "# Train the model using the training set and validate on the validation set.\n",
        "print(\"Training model...\")\n",
        "model.fit(\n",
        "    X_train, y_train,\n",
        "    eval_set=[(X_val, y_val)],\n",
        "    verbose=50\n",
        ")\n",
        "\n",
        "# Generate predictions on the validation set\n",
        "val_pred = model.predict(X_val)\n",
        "y_min, y_max = y.min(), y.max()\n",
        "val_pred = np.clip(val_pred, y_min, y_max)\n",
        "\n",
        "# Calculate and print evaluation metrics\n",
        "print(\"\\n=== Validation Metrics ===\")\n",
        "print(f\"MSE: {mean_squared_error(y_val, val_pred):.3f}\")\n",
        "print(f\"RMSE: {np.sqrt(mean_squared_error(y_val, val_pred)):.3f}\")\n",
        "print(f\"MAE: {mean_absolute_error(y_val, val_pred):.3f}\")\n",
        "print(f\"R²: {r2_score(y_val, val_pred):.3f}\")\n",
        "\n",
        "# Analyze error distribution\n",
        "error = val_pred - y_val\n",
        "print(\"\\n=== Error Distribution ===\")\n",
        "print(f\"Mean Error: {error.mean():.3f}\")\n",
        "print(f\"Std.Dev: {error.std():.3f}\")\n",
        "print(f\"Within ±0.5: {(abs(error) <= 0.5).mean():.1%}\")\n",
        "\n",
        "# Plot Feature Importance\n",
        "plt.figure(figsize=(10, 6))\n",
        "sorted_idx = model.feature_importances_.argsort()\n",
        "plt.barh(X_train.columns[sorted_idx], model.feature_importances_[sorted_idx])\n",
        "plt.title('XGBoost Feature Importance')\n",
        "plt.xlabel('Importance Score')\n",
        "plt.show()\n",
        "\n",
        "# Plot Actual vs Predicted Values\n",
        "plt.figure(figsize=(8, 6))\n",
        "sns.regplot(x=y_val, y=val_pred, scatter_kws={'alpha': 0.3})\n",
        "plt.plot([y_min, y_max], [y_min, y_max], 'r--')\n",
        "plt.title('Actual vs Predicted Values')\n",
        "plt.xlabel('True Scores')\n",
        "plt.ylabel('Predicted Scores')\n",
        "plt.show()\n",
        "\n",
        "# Plot Learning Curve (RMSE over boosting rounds)\n",
        "results = model.evals_result()\n",
        "plt.figure(figsize=(10, 4))\n",
        "plt.plot(results['validation_0']['rmse'], label='Validation RMSE')\n",
        "plt.title('Learning Curve')\n",
        "plt.ylabel('RMSE')\n",
        "plt.xlabel('Boosting Rounds')\n",
        "plt.legend()\n",
        "plt.show()\n",
        "\n",
        "# Save the trained model for future use\n",
        "model.save_model(\"grammar_scoring_model.json\")\n"
      ],
      "metadata": {
        "id": "buSGVg9Z3R7-",
        "outputId": "ad06c1c2-560c-4ffb-bce8-3db9ce55df09",
        "colab": {
          "base_uri": "https://localhost:8080/",
          "height": 1000
        }
      },
      "execution_count": null,
      "outputs": [
        {
          "output_type": "stream",
          "name": "stdout",
          "text": [
            "Training model...\n",
            "[0]\tvalidation_0-rmse:1.09397\tvalidation_0-mae:0.98120\n"
          ]
        },
        {
          "output_type": "stream",
          "name": "stderr",
          "text": [
            "/usr/local/lib/python3.11/dist-packages/xgboost/core.py:158: UserWarning: [01:31:07] WARNING: /workspace/src/common/error_msg.cc:27: The tree method `gpu_hist` is deprecated since 2.0.0. To use GPU training, set the `device` parameter to CUDA instead.\n",
            "\n",
            "    E.g. tree_method = \"hist\", device = \"cuda\"\n",
            "\n",
            "  msg += \" or \"\n",
            "/usr/local/lib/python3.11/dist-packages/xgboost/core.py:158: UserWarning: [01:31:07] WARNING: /workspace/src/learner.cc:740: \n",
            "Parameters: { \"predictor\" } are not used.\n",
            "\n",
            "  msg += \" or \"\n"
          ]
        },
        {
          "output_type": "stream",
          "name": "stdout",
          "text": [
            "[50]\tvalidation_0-rmse:1.05080\tvalidation_0-mae:0.91540\n",
            "[100]\tvalidation_0-rmse:1.05934\tvalidation_0-mae:0.91744\n"
          ]
        },
        {
          "output_type": "stream",
          "name": "stderr",
          "text": [
            "/usr/local/lib/python3.11/dist-packages/xgboost/core.py:158: UserWarning: [01:31:08] WARNING: /workspace/src/common/error_msg.cc:27: The tree method `gpu_hist` is deprecated since 2.0.0. To use GPU training, set the `device` parameter to CUDA instead.\n",
            "\n",
            "    E.g. tree_method = \"hist\", device = \"cuda\"\n",
            "\n",
            "  msg += \" or \"\n"
          ]
        },
        {
          "output_type": "stream",
          "name": "stdout",
          "text": [
            "[150]\tvalidation_0-rmse:1.06480\tvalidation_0-mae:0.92182\n",
            "[200]\tvalidation_0-rmse:1.06566\tvalidation_0-mae:0.92170\n",
            "[222]\tvalidation_0-rmse:1.06680\tvalidation_0-mae:0.92270\n",
            "\n",
            "=== Validation Metrics ===\n",
            "MSE: 1.107\n",
            "RMSE: 1.052\n",
            "MAE: 0.913\n",
            "R²: 0.079\n",
            "\n",
            "=== Error Distribution ===\n",
            "Mean Error: 0.001\n",
            "Std.Dev: 1.052\n",
            "Within ±0.5: 24.7%\n"
          ]
        },
        {
          "output_type": "stream",
          "name": "stderr",
          "text": [
            "/usr/local/lib/python3.11/dist-packages/xgboost/core.py:158: UserWarning: [01:31:08] WARNING: /workspace/src/common/error_msg.cc:27: The tree method `gpu_hist` is deprecated since 2.0.0. To use GPU training, set the `device` parameter to CUDA instead.\n",
            "\n",
            "    E.g. tree_method = \"hist\", device = \"cuda\"\n",
            "\n",
            "  msg += \" or \"\n"
          ]
        },
        {
          "output_type": "display_data",
          "data": {
            "text/plain": [
              "<Figure size 1000x600 with 1 Axes>"
            ],
            "image/png": "[encoded data removed]"
          },
          "metadata": {}
        },
        {
          "output_type": "display_data",
          "data": {
            "text/plain": [
              "<Figure size 800x600 with 1 Axes>"
            ],
            "image/png": "[encoded data removed]"
          },
          "metadata": {}
        },
        {
          "output_type": "display_data",
          "data": {
            "text/plain": [
              "<Figure size 1000x400 with 1 Axes>"
            ],
            "image/png": "[encoded data removed]"
          },
          "metadata": {}
        }
      ]
    },
    {
      "cell_type": "code",
      "source": [
        "# Step-8: Generate Predictions and Create Submission\n",
        "# ---------------------------------------------------\n",
        "# Use the trained model to predict grammar scores for test data and create the submission file.\n",
        "import numpy as np\n",
        "import pandas as pd\n",
        "\n",
        "# Predict test scores using the trained model\n",
        "test_pred = model.predict(test_feature_df)\n",
        "\n",
        "# Clip predictions to ensure they fall within the allowed range [1, 5]\n",
        "test_pred = np.clip(test_pred, 1, 5)\n",
        "\n",
        "# Create a submission DataFrame with audio filenames and corresponding grammar scores\n",
        "submission = pd.DataFrame({\n",
        "    'audio_filename': test_df['filename'],\n",
        "    'grammar_score': test_pred.round(2)  # Round predictions to 2 decimal places\n",
        "})\n",
        "\n",
        "# Save the submission file as CSV without the index\n",
        "submission.to_csv('submission.csv', index=False)\n",
        "print(\"Submission file created with predictions!\")\n"
      ],
      "metadata": {
        "id": "8v5nWrH-4HM6",
        "outputId": "e0c2bce5-22f9-4a9c-95c8-af0ba02edbfd",
        "colab": {
          "base_uri": "https://localhost:8080/"
        }
      },
      "execution_count": null,
      "outputs": [
        {
          "output_type": "stream",
          "name": "stdout",
          "text": [
            "Submission file created with predictions!\n"
          ]
        }
      ]
    }
  ],
  "metadata": {
    "colab": {
      "provenance": [],
      "gpuType": "T4"
    },
    "kernelspec": {
      "display_name": "Python 3",
      "name": "python3"
    },
    "accelerator": "GPU"
  },
  "nbformat": 4,
  "nbformat_minor": 0
}